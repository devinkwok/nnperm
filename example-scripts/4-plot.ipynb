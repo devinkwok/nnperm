{
 "cells": [
  {
   "cell_type": "code",
   "execution_count": null,
   "metadata": {},
   "outputs": [],
   "source": [
    "from pathlib import Path\n",
    "import pandas as pd\n",
    "\n",
    "# copy the relevant .csv files to \"../outputs\"\n",
    "output_dir = Path(\"../refactor-outputs\")\n",
    "hparams = pd.read_csv(output_dir / \"exp-hparams.csv\")\n",
    "barriers = pd.read_csv(output_dir / \"barriers.csv\")\n",
    "\n",
    "hparams = hparams[hparams[\"Path\"].apply(lambda x: \"lottery\" in x)]\n",
    "hparams[\"Path.hash\"] = hparams[\"Path\"].apply(lambda x: x.split(\"lottery_\")[1])\n",
    "\n",
    "barriers[\"path.hash\"] = barriers[\"path\"].apply(lambda x: x.split(\"lottery_\")[1].split(\"/\")[0])\n",
    "barriers[\"type.is_train\"] = barriers[\"type\"].apply(lambda x: \"train\" in x)\n",
    "barriers[\"type.epoch\"] = barriers[\"type\"].apply(lambda x: int(x.split(\"-ep\")[1].split(\"_\")[0]))\n",
    "# barriers[\"type.level\"] = barriers[\"type\"].apply(lambda x: int(x.split(\"-level_\")[1].split(\"-\")[0]))\n",
    "\n",
    "columns = [\"Path.hash\", \"model_hparams.model_name\", \"dataset_hparams.dataset_name\"]\n",
    "\n",
    "barriers = barriers.merge(hparams[columns], left_on=\"path.hash\", right_on=\"Path.hash\", suffixes=(\"\", \"\"))\n",
    "barriers"
   ]
  },
  {
   "cell_type": "code",
   "execution_count": null,
   "metadata": {},
   "outputs": [],
   "source": [
    "import matplotlib.pyplot as plt\n",
    "import seaborn as sns\n",
    "\n",
    "sns.lineplot(data=barriers, x=\"type.epoch\", y=\"acc_barrier\", hue=\"dataset_hparams.dataset_name\")\n",
    "plt.show()"
   ]
  }
 ],
 "metadata": {
  "kernelspec": {
   "display_name": "ml-torch",
   "language": "python",
   "name": "python3"
  },
  "language_info": {
   "codemirror_mode": {
    "name": "ipython",
    "version": 3
   },
   "file_extension": ".py",
   "mimetype": "text/x-python",
   "name": "python",
   "nbconvert_exporter": "python",
   "pygments_lexer": "ipython3",
   "version": "3.8.10"
  },
  "orig_nbformat": 4
 },
 "nbformat": 4,
 "nbformat_minor": 2
}
